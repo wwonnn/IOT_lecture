{
  "nbformat": 4,
  "nbformat_minor": 0,
  "metadata": {
    "colab": {
      "provenance": [],
      "authorship_tag": "ABX9TyO3jMAnP1mlY63BsuttAC90",
      "include_colab_link": true
    },
    "kernelspec": {
      "name": "python3",
      "display_name": "Python 3"
    },
    "language_info": {
      "name": "python"
    }
  },
  "cells": [
    {
      "cell_type": "markdown",
      "metadata": {
        "id": "view-in-github",
        "colab_type": "text"
      },
      "source": [
        "<a href=\"https://colab.research.google.com/github/wwonnn/IOT_lecture/blob/main/assignment_0314_bus.ipynb\" target=\"_parent\"><img src=\"https://colab.research.google.com/assets/colab-badge.svg\" alt=\"Open In Colab\"/></a>"
      ]
    },
    {
      "cell_type": "code",
      "execution_count": 24,
      "metadata": {
        "colab": {
          "base_uri": "https://localhost:8080/"
        },
        "id": "PiDWn4xAEljv",
        "outputId": "748ba3a7-2d75-4fa6-d1b6-258660981e45"
      },
      "outputs": [
        {
          "output_type": "stream",
          "name": "stdout",
          "text": [
            "<?xml version=\"1.0\" encoding=\"UTF-8\" standalone=\"yes\"?><response><comMsgHeader/><msgHeader><queryTime>2024-03-14 13:53:41.654</queryTime><resultCode>0</resultCode><resultMessage>정상적으로 처리되었습니다.</resultMessage></msgHeader><msgBody><busLocationList><endBus>0</endBus><lowPlate>0</lowPlate><plateNo>경기76자1992</plateNo><plateType>3</plateType><remainSeatCnt>38</remainSeatCnt><routeId>229000255</routeId><stationId>229001548</stationId><stationSeq>13</stationSeq></busLocationList><busLocationList><endBus>0</endBus><lowPlate>0</lowPlate><plateNo>경기76자2002</plateNo><plateType>3</plateType><remainSeatCnt>37</remainSeatCnt><routeId>229000255</routeId><stationId>277104677</stationId><stationSeq>24</stationSeq></busLocationList><busLocationList><endBus>0</endBus><lowPlate>0</lowPlate><plateNo>경기76자2000</plateNo><plateType>3</plateType><remainSeatCnt>31</remainSeatCnt><routeId>229000255</routeId><stationId>113000127</stationId><stationSeq>38</stationSeq></busLocationList><busLocationList><endBus>0</endBus><lowPlate>0</lowPlate><plateNo>경기76자2003</plateNo><plateType>3</plateType><remainSeatCnt>32</remainSeatCnt><routeId>229000255</routeId><stationId>277103462</stationId><stationSeq>19</stationSeq></busLocationList><busLocationList><endBus>0</endBus><lowPlate>0</lowPlate><plateNo>경기76자1997</plateNo><plateType>3</plateType><remainSeatCnt>41</remainSeatCnt><routeId>229000255</routeId><stationId>229000361</stationId><stationSeq>61</stationSeq></busLocationList><busLocationList><endBus>0</endBus><lowPlate>0</lowPlate><plateNo>경기76자1999</plateNo><plateType>3</plateType><remainSeatCnt>39</remainSeatCnt><routeId>229000255</routeId><stationId>229001502</stationId><stationSeq>50</stationSeq></busLocationList><busLocationList><endBus>0</endBus><lowPlate>0</lowPlate><plateNo>경기76자1995</plateNo><plateType>3</plateType><remainSeatCnt>30</remainSeatCnt><routeId>229000255</routeId><stationId>277103463</stationId><stationSeq>47</stationSeq></busLocationList><busLocationList><endBus>0</endBus><lowPlate>0</lowPlate><plateNo>경기76자2001</plateNo><plateType>3</plateType><remainSeatCnt>23</remainSeatCnt><routeId>229000255</routeId><stationId>113000125</stationId><stationSeq>29</stationSeq></busLocationList><busLocationList><endBus>0</endBus><lowPlate>0</lowPlate><plateNo>경기76자1993</plateNo><plateType>3</plateType><remainSeatCnt>41</remainSeatCnt><routeId>229000255</routeId><stationId>277102468</stationId><stationSeq>2</stationSeq></busLocationList></msgBody></response>\n"
          ]
        }
      ],
      "source": [
        "import requests\n",
        "url='http://apis.data.go.kr/6410000/buslocationservice/getBusLocationList?serviceKey=z0l737pURnC6czw5BHiIivDyp0EE21fBQtqJjQkDUWmbaVJ8CmYY0jR14gulB9OObKscB4KgG%2FrRZmARSQJSpg%3D%3D&routeId=229000255'\n",
        "r = requests.get(url)\n",
        "print(r.text)"
      ]
    },
    {
      "cell_type": "code",
      "source": [
        "from bs4 import BeautifulSoup\n",
        "\n",
        "soup = BeautifulSoup(r.text, features=\"xml\")"
      ],
      "metadata": {
        "id": "NfGrmy1yE3sM"
      },
      "execution_count": 25,
      "outputs": []
    },
    {
      "cell_type": "code",
      "source": [
        "soup.find_all('stationId')"
      ],
      "metadata": {
        "colab": {
          "base_uri": "https://localhost:8080/"
        },
        "id": "dJv5zD8VE8KM",
        "outputId": "cabe37a2-75ae-43d1-8cc9-455f0918401e"
      },
      "execution_count": 26,
      "outputs": [
        {
          "output_type": "execute_result",
          "data": {
            "text/plain": [
              "[<stationId>229001548</stationId>,\n",
              " <stationId>277104677</stationId>,\n",
              " <stationId>113000127</stationId>,\n",
              " <stationId>277103462</stationId>,\n",
              " <stationId>229000361</stationId>,\n",
              " <stationId>229001502</stationId>,\n",
              " <stationId>277103463</stationId>,\n",
              " <stationId>113000125</stationId>,\n",
              " <stationId>277102468</stationId>]"
            ]
          },
          "metadata": {},
          "execution_count": 26
        }
      ]
    },
    {
      "cell_type": "code",
      "source": [],
      "metadata": {
        "id": "CbCT-6agKLvq"
      },
      "execution_count": null,
      "outputs": []
    }
  ]
}