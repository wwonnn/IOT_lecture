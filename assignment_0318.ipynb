{
  "nbformat": 4,
  "nbformat_minor": 0,
  "metadata": {
    "colab": {
      "provenance": [],
      "authorship_tag": "ABX9TyM30YynPk7qsGM1koLR7cUD",
      "include_colab_link": true
    },
    "kernelspec": {
      "name": "python3",
      "display_name": "Python 3"
    },
    "language_info": {
      "name": "python"
    }
  },
  "cells": [
    {
      "cell_type": "markdown",
      "metadata": {
        "id": "view-in-github",
        "colab_type": "text"
      },
      "source": [
        "<a href=\"https://colab.research.google.com/github/wwonnn/IOT_lecture/blob/main/assignment_0318.ipynb\" target=\"_parent\"><img src=\"https://colab.research.google.com/assets/colab-badge.svg\" alt=\"Open In Colab\"/></a>"
      ]
    },
    {
      "cell_type": "code",
      "execution_count": 25,
      "metadata": {
        "colab": {
          "base_uri": "https://localhost:8080/"
        },
        "id": "ycVAOHUfbkBp",
        "outputId": "311c04a9-02c2-4f0c-dd94-b116790abc32"
      },
      "outputs": [
        {
          "output_type": "stream",
          "name": "stdout",
          "text": [
            "<?xml version=\"1.0\" encoding=\"UTF-8\" standalone=\"no\"?><response><header><resultCode>C00</resultCode><resultMsg>NORMAL SERVICE</resultMsg></header><body><items><item><tkawy_plce_se_nm>약국</tkawy_plce_se_nm><lo>127.352877700000</lo><rn_adrs>대전광역시 서구 계백로 1166-12(가수원동)</rn_adrs><admd_cd>3017059000</admd_cd><admd_nm>가수원동</admd_nm><lnm_adrs>대전광역시 서구 가수원동 765-6</lnm_adrs><telno/><ester_nm>윤**</ester_nm><la>36.30431170</la><tkawy_plce_nm>건강약국</tkawy_plce_nm><data_stdr_de>2022-09-30</data_stdr_de><sn>1</sn><rm/><lgdng_cd>3017011400</lgdng_cd><lgdng_nm>가수원동</lgdng_nm></item><item><tkawy_plce_se_nm>약국</tkawy_plce_se_nm><lo>127.385617700000</lo><rn_adrs>대전광역시 서구 도산로 286(가장동)</rn_adrs><admd_cd>3017057000</admd_cd><admd_nm>가장동</admd_nm><lnm_adrs>대전광역시 서구 가장동 45-9 가장크리닉</lnm_adrs><telno/><ester_nm>이**</ester_nm><la>36.33197278</la><tkawy_plce_nm>가장약국</tkawy_plce_nm><data_stdr_de>2022-09-30</data_stdr_de><sn>2</sn><rm/><lgdng_cd>3017010900</lgdng_cd><lgdng_nm>가장동</lgdng_nm></item><item><tkawy_plce_se_nm>약국</tkawy_plce_se_nm><lo>127.387830900000</lo><rn_adrs>대전광역시 서구 동서대로 1147(가장동)</rn_adrs><admd_cd>3017057000</admd_cd><admd_nm>가장동</admd_nm><lnm_adrs>대전광역시 서구 가장동 32-23 온누리크리닉</lnm_adrs><telno/><ester_nm>김**</ester_nm><la>36.32810335</la><tkawy_plce_nm>가장태평양약국</tkawy_plce_nm><data_stdr_de>2022-09-30</data_stdr_de><sn>3</sn><rm/><lgdng_cd>3017010900</lgdng_cd><lgdng_nm>가장동</lgdng_nm></item><item><tkawy_plce_se_nm>약국</tkawy_plce_se_nm><lo>127.368833600000</lo><rn_adrs>대전광역시 서구 신갈마로 110-1(갈마동)</rn_adrs><admd_cd>3017058100</admd_cd><admd_nm>갈마1동</admd_nm><lnm_adrs>대전광역시 서구 갈마동 393-13</lnm_adrs><telno/><ester_nm>임**</ester_nm><la>36.34387587</la><tkawy_plce_nm>갈마드림약국</tkawy_plce_nm><data_stdr_de>2022-09-30</data_stdr_de><sn>4</sn><rm/><lgdng_cd>3017011100</lgdng_cd><lgdng_nm>갈마동</lgdng_nm></item><item><tkawy_plce_se_nm>약국</tkawy_plce_se_nm><lo>127.368451000000</lo><rn_adrs>대전광역시 서구 계룡로 353(갈마동)</rn_adrs><admd_cd>3017058100</admd_cd><admd_nm>갈마1동</admd_nm><lnm_adrs>대전광역시 서구 갈마동 261-14</lnm_adrs><telno/><ester_nm>이**</ester_nm><la>36.35371527</la><tkawy_plce_nm>갈마약국</tkawy_plce_nm><data_stdr_de>2022-09-30</data_stdr_de><sn>5</sn><rm/><lgdng_cd>3017011100</lgdng_cd><lgdng_nm>갈마동</lgdng_nm></item><item><tkawy_plce_se_nm>약국</tkawy_plce_se_nm><lo>127.369816900000</lo><rn_adrs>대전광역시 서구 갈마로 79(갈마동)</rn_adrs><admd_cd>3017058200</admd_cd><admd_nm>갈마2동</admd_nm><lnm_adrs>대전광역시 서구 갈마동 394-16</lnm_adrs><telno/><ester_nm>최**</ester_nm><la>36.34519495</la><tkawy_plce_nm>기쁨가득한약국</tkawy_plce_nm><data_stdr_de>2022-09-30</data_stdr_de><sn>6</sn><rm/><lgdng_cd>3017011100</lgdng_cd><lgdng_nm>갈마동</lgdng_nm></item><item><tkawy_plce_se_nm>약국</tkawy_plce_se_nm><lo>127.370518200000</lo><rn_adrs>대전광역시 서구 갈마중로 11(갈마동)</rn_adrs><admd_cd>3017058200</admd_cd><admd_nm>갈마2동</admd_nm><lnm_adrs>대전광역시 서구 갈마동 343-45</lnm_adrs><telno/><ester_nm>박**</ester_nm><la>36.34771102</la><tkawy_plce_nm>다정약국</tkawy_plce_nm><data_stdr_de>2022-09-30</data_stdr_de><sn>7</sn><rm/><lgdng_cd>3017011100</lgdng_cd><lgdng_nm>갈마동</lgdng_nm></item><item><tkawy_plce_se_nm>약국</tkawy_plce_se_nm><lo>127.341146600000</lo><rn_adrs>대전광역시 서구 관저동로 164(관저동)</rn_adrs><admd_cd>3017059600</admd_cd><admd_nm>관저1동</admd_nm><lnm_adrs>대전광역시 서구 관저동 1898</lnm_adrs><telno/><ester_nm>최**</ester_nm><la>36.30687429</la><tkawy_plce_nm>건양건강약국</tkawy_plce_nm><data_stdr_de>2022-09-30</data_stdr_de><sn>8</sn><rm/><lgdng_cd>3017011600</lgdng_cd><lgdng_nm>관저동</lgdng_nm></item><item><tkawy_plce_se_nm>약국</tkawy_plce_se_nm><lo>127.341146600000</lo><rn_adrs>대전광역시 서구 관저동로 164(관저동)</rn_adrs><admd_cd>3017059600</admd_cd><admd_nm>관저1동</admd_nm><lnm_adrs>대전광역시 서구 관저동 1898</lnm_adrs><telno/><ester_nm>차**</ester_nm><la>36.30687429</la><tkawy_plce_nm>건양사랑약국</tkawy_plce_nm><data_stdr_de>2022-09-30</data_stdr_de><sn>9</sn><rm/><lgdng_cd>3017011600</lgdng_cd><lgdng_nm>관저동</lgdng_nm></item><item><tkawy_plce_se_nm>약국</tkawy_plce_se_nm><lo>127.341144300000</lo><rn_adrs>대전광역시 서구 관저동로 162(관저동)</rn_adrs><admd_cd>3017059600</admd_cd><admd_nm>관저1동</admd_nm><lnm_adrs>대전광역시 서구 관저동 1899 건양프라자</lnm_adrs><telno/><ester_nm>강**</ester_nm><la>36.30656898</la><tkawy_plce_nm>건양정문약국</tkawy_plce_nm><data_stdr_de>2022-09-30</data_stdr_de><sn>10</sn><rm/><lgdng_cd>3017011600</lgdng_cd><lgdng_nm>관저동</lgdng_nm></item></items><totalCnt>612</totalCnt></body></response>\n"
          ]
        }
      ],
      "source": [
        "import requests\n",
        "url='https://www.seogu.go.kr/seoguAPI/3660000/getDuseMdcnTkawyBx?pageNo=1&numOfRows=10&type=xml'\n",
        "r = requests.get(url)\n",
        "print(r.text)"
      ]
    },
    {
      "cell_type": "code",
      "source": [
        "from bs4 import BeautifulSoup\n",
        "\n",
        "soup = BeautifulSoup(r.text, features=\"xml\")"
      ],
      "metadata": {
        "id": "Xbk1_GWpdDZj"
      },
      "execution_count": 26,
      "outputs": []
    },
    {
      "cell_type": "code",
      "source": [
        "soup.find_all('tkawy_plce_nm')"
      ],
      "metadata": {
        "colab": {
          "base_uri": "https://localhost:8080/"
        },
        "id": "PFu0r4endIs1",
        "outputId": "6cc2fe7a-51ae-42a5-bdd1-97629cd75065"
      },
      "execution_count": 27,
      "outputs": [
        {
          "output_type": "execute_result",
          "data": {
            "text/plain": [
              "[<tkawy_plce_nm>건강약국</tkawy_plce_nm>,\n",
              " <tkawy_plce_nm>가장약국</tkawy_plce_nm>,\n",
              " <tkawy_plce_nm>가장태평양약국</tkawy_plce_nm>,\n",
              " <tkawy_plce_nm>갈마드림약국</tkawy_plce_nm>,\n",
              " <tkawy_plce_nm>갈마약국</tkawy_plce_nm>,\n",
              " <tkawy_plce_nm>기쁨가득한약국</tkawy_plce_nm>,\n",
              " <tkawy_plce_nm>다정약국</tkawy_plce_nm>,\n",
              " <tkawy_plce_nm>건양건강약국</tkawy_plce_nm>,\n",
              " <tkawy_plce_nm>건양사랑약국</tkawy_plce_nm>,\n",
              " <tkawy_plce_nm>건양정문약국</tkawy_plce_nm>]"
            ]
          },
          "metadata": {},
          "execution_count": 27
        }
      ]
    }
  ]
}