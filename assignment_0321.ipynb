{
  "nbformat": 4,
  "nbformat_minor": 0,
  "metadata": {
    "colab": {
      "provenance": [],
      "authorship_tag": "ABX9TyMzipgKkmRh7Mmkgyoel2mZ",
      "include_colab_link": true
    },
    "kernelspec": {
      "name": "python3",
      "display_name": "Python 3"
    },
    "language_info": {
      "name": "python"
    }
  },
  "cells": [
    {
      "cell_type": "markdown",
      "metadata": {
        "id": "view-in-github",
        "colab_type": "text"
      },
      "source": [
        "<a href=\"https://colab.research.google.com/github/wwonnn/IOT_lecture/blob/main/assignment_0321.ipynb\" target=\"_parent\"><img src=\"https://colab.research.google.com/assets/colab-badge.svg\" alt=\"Open In Colab\"/></a>"
      ]
    },
    {
      "cell_type": "code",
      "execution_count": 3,
      "metadata": {
        "colab": {
          "base_uri": "https://localhost:8080/"
        },
        "id": "sSBX5Y-sKUHi",
        "outputId": "6fc5cdde-b36c-4b0a-e092-9db20d66be8e"
      },
      "outputs": [
        {
          "output_type": "stream",
          "name": "stdout",
          "text": [
            "{'rentBikeStatus': {'list_total_count': 5, 'RESULT': {'CODE': 'INFO-000', 'MESSAGE': '정상 처리되었습니다.'}, 'row': [{'rackTotCnt': '15', 'stationName': '102. 망원역 1번출구 앞', 'parkingBikeTotCnt': '28', 'shared': '187', 'stationLatitude': '37.55564880', 'stationLongitude': '126.91062927', 'stationId': 'ST-4'}, {'rackTotCnt': '14', 'stationName': '103. 망원역 2번출구 앞', 'parkingBikeTotCnt': '28', 'shared': '200', 'stationLatitude': '37.55495071', 'stationLongitude': '126.91083527', 'stationId': 'ST-5'}, {'rackTotCnt': '13', 'stationName': '104. 합정역 1번출구 앞', 'parkingBikeTotCnt': '16', 'shared': '123', 'stationLatitude': '37.55073929', 'stationLongitude': '126.91508484', 'stationId': 'ST-6'}, {'rackTotCnt': '5', 'stationName': '105. 합정역 5번출구 앞', 'parkingBikeTotCnt': '17', 'shared': '340', 'stationLatitude': '37.55000687', 'stationLongitude': '126.91482544', 'stationId': 'ST-7'}, {'rackTotCnt': '12', 'stationName': '106. 합정역 7번출구 앞', 'parkingBikeTotCnt': '3', 'shared': '25', 'stationLatitude': '37.54864502', 'stationLongitude': '126.91282654', 'stationId': 'ST-8'}]}}\n"
          ]
        }
      ],
      "source": [
        "import requests\n",
        "\n",
        "url = 'http://openapi.seoul.go.kr:8088/sample/json/bikeList/1/5/'\n",
        "\n",
        "response = requests.get(url)\n",
        "print(response.json())"
      ]
    },
    {
      "cell_type": "code",
      "source": [
        "j = response.json()\n",
        "for x in j[\"rentBikeStatus\"][\"row\"]:\n",
        "  print(\"대여소명:\", x[\"stationName\"], \"/ 대여횟수:\", x[\"shared\"])"
      ],
      "metadata": {
        "colab": {
          "base_uri": "https://localhost:8080/"
        },
        "id": "ItOGqo8JNL8M",
        "outputId": "a2f70a08-fdb5-44a6-f4c3-2d14f66a9f70"
      },
      "execution_count": 7,
      "outputs": [
        {
          "output_type": "stream",
          "name": "stdout",
          "text": [
            "대여소명: 102. 망원역 1번출구 앞 / 대여횟수: 187\n",
            "대여소명: 103. 망원역 2번출구 앞 / 대여횟수: 200\n",
            "대여소명: 104. 합정역 1번출구 앞 / 대여횟수: 123\n",
            "대여소명: 105. 합정역 5번출구 앞 / 대여횟수: 340\n",
            "대여소명: 106. 합정역 7번출구 앞 / 대여횟수: 25\n"
          ]
        }
      ]
    }
  ]
}